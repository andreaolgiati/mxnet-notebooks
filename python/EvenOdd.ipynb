{
 "cells": [
  {
   "cell_type": "code",
   "execution_count": 1,
   "metadata": {
    "collapsed": false
   },
   "outputs": [],
   "source": [
    "import sys\n",
    "import os\n",
    "import mxnet as mx\n",
    "import mxnet.metric #import EvalMetric\n",
    "import numpy as np\n",
    "import logging\n",
    "# code to automatically download dataset\n",
    "mxnet_path = os.path.dirname(os.path.abspath(os.path.expanduser(mxnet.__file__)))\n",
    "sys.path.append(os.path.join(mxnet_path, \"../../tests/python/common\"))\n",
    "sys.path.append(os.path.join(mxnet_path, \"../../example/python-howto\"))\n",
    "from data import mnist_iterator\n",
    "import get_data"
   ]
  },
  {
   "cell_type": "code",
   "execution_count": 2,
   "metadata": {
    "collapsed": false
   },
   "outputs": [],
   "source": [
    "def perDigitMetric(params):\n",
    "    #print \"Metric\", params\n",
    "    for i, cm in enumerate(params.eval_metric.cms):\n",
    "        print \"Label=\", i\n",
    "        print cm\n",
    "\n",
    "class MNISTPerDigitAccuracy(mx.metric.EvalMetric):\n",
    "    \"\"\"Calculate accuracy\"\"\"\n",
    "\n",
    "    def reset(self):\n",
    "        if hasattr(self, 'cms'):\n",
    "            for cm in self.cms:\n",
    "                cm.fill(0)\n",
    "        \n",
    "\n",
    "    def __init__(self,sizes):\n",
    "        super(MNISTPerDigitAccuracy, self).__init__('mnistperdigiaccuracy')\n",
    "        self.cms = map( lambda x: np.zeros((x,x), dtype=int), sizes )\n",
    "        self.reset()\n",
    "        return super(MNISTPerDigitAccuracy, self).reset()\n",
    "\n",
    "\n",
    "    def update(self, labels, preds):\n",
    "        mx.metric.check_label_shapes(labels, preds)\n",
    "        #print labels, preds\n",
    "        for i in range(len(labels)):\n",
    "            for label, pred_label in zip(labels[i].asnumpy(), preds[i].asnumpy()):\n",
    "                #pred_label = int(np.argmax(pred_label))\n",
    "                #label = int(label)\n",
    "                #print \"LABEL=\", label, \"PRED=\", pred_label\n",
    "                l = np.argmax(label[0:10])\n",
    "                p = np.argmax(pred_label[0:10])\n",
    "                self.cms[i][l,p] += 1\n",
    "                self.sum_metric += (l == p)\n",
    "                \n",
    "                l = 10 + np.argmax(label[10:12])\n",
    "                p = 10 + np.argmax(pred_label[10:12])\n",
    "                self.cms[i][l,p] += 1\n",
    "                self.sum_metric += (l == p)\n",
    "\n",
    "                self.num_inst += 2\n"
   ]
  },
  {
   "cell_type": "code",
   "execution_count": 3,
   "metadata": {
    "collapsed": false
   },
   "outputs": [],
   "source": [
    "logging.basicConfig(level=logging.DEBUG)"
   ]
  },
  {
   "cell_type": "code",
   "execution_count": 4,
   "metadata": {
    "collapsed": false
   },
   "outputs": [],
   "source": [
    "train, val = mnist_iterator(batch_size=100, input_shape = (784,))"
   ]
  },
  {
   "cell_type": "code",
   "execution_count": 5,
   "metadata": {
    "collapsed": false
   },
   "outputs": [],
   "source": [
    "class EvenOdd_iterator(mx.io.DataIter):\n",
    "    '''multi label ilab iterator'''\n",
    "\n",
    "    def __init__(self, data_iter, parentweight):\n",
    "        super(EvenOdd_iterator, self).__init__()\n",
    "        self.data_iter = data_iter\n",
    "        self.batch_size = self.data_iter.batch_size\n",
    "        self.parentweight = parentweight\n",
    "        \n",
    "    @property\n",
    "    def provide_data(self):\n",
    "        return self.data_iter.provide_data\n",
    "\n",
    "    @property\n",
    "    def provide_label(self):\n",
    "        #return [mx.io.DataDesc('softmax_label', (self.batch_size,), np.float32)]\n",
    "        return [mx.io.DataDesc('softmax_label', (self.batch_size,12), np.float32)]\n",
    "\n",
    "    def hard_reset(self):\n",
    "        self.data_iter.hard_reset()\n",
    "\n",
    "    def reset(self):\n",
    "        self.data_iter.reset()\n",
    "\n",
    "    def next(self):\n",
    "        batch = self.data_iter.next()\n",
    "        #labels= batch.label\n",
    "        labels = []\n",
    "        if True:\n",
    "            digitlabels = np.zeros((self.batch_size,12))\n",
    "            digitlabels[np.arange(self.batch_size),batch.label[0].asnumpy().astype(int)]=1-self.parentweight\n",
    "            eolabels = 10 + (batch.label[0].asnumpy().astype(int) % 2 )\n",
    "            digitlabels[np.arange(self.batch_size),eolabels]=self.parentweight\n",
    "            digitlabels = mx.nd.array(digitlabels)\n",
    "            #print batch.label[0].asnumpy().astype(int)\n",
    "            #print digitlabels.asnumpy()\n",
    "            #fdafdaf\n",
    "        else:\n",
    "            digitlabels = mx.nd.zeros((12,))\n",
    "        #print digitlabels\n",
    "        #print batch.label[0].asnumpy()\n",
    "        labels.append(digitlabels)\n",
    "        #print labels\n",
    "        #eolabels = []\n",
    "        #for i in batch.label[0].asnumpy():\n",
    "        #    eolabels.append(i%2)\n",
    "        #eolabels = mx.nd.array(np.array(eolabels))\n",
    "        #labels.append(eolabels)\n",
    "        return mx.io.DataBatch(data=batch.data, label=labels, pad=batch.pad, index=batch.index)\n"
   ]
  },
  {
   "cell_type": "code",
   "execution_count": 6,
   "metadata": {
    "collapsed": false
   },
   "outputs": [],
   "source": [
    "parentweight = 0.25\n",
    "_train = EvenOdd_iterator(train,parentweight)\n",
    "_val = EvenOdd_iterator(train,parentweight)"
   ]
  },
  {
   "cell_type": "code",
   "execution_count": 7,
   "metadata": {
    "collapsed": false,
    "scrolled": false
   },
   "outputs": [],
   "source": [
    "data = mx.symbol.Variable('data')\n",
    "fc1 = mx.symbol.FullyConnected(data = data, name='fc1', num_hidden=128)\n",
    "act1 = mx.symbol.Activation(data = fc1, name='relu1', act_type=\"relu\")\n",
    "fc2 = mx.symbol.FullyConnected(data = act1, name = 'fc2', num_hidden = 64)\n",
    "act2 = mx.symbol.Activation(data = fc2, name='relu2', act_type=\"relu\")\n",
    "fc3 = mx.symbol.FullyConnected(data = act2, name='fc3', num_hidden=12)"
   ]
  },
  {
   "cell_type": "code",
   "execution_count": 8,
   "metadata": {
    "collapsed": false
   },
   "outputs": [],
   "source": [
    "mlp = mx.symbol.SoftmaxOutput(data = fc3, name = 'softmax')\n",
    "optimizer_params = (('learning_rate', 0.1),('momentum', 0.9), ('wd', 0.00001))"
   ]
  },
  {
   "cell_type": "code",
   "execution_count": 9,
   "metadata": {
    "collapsed": false,
    "scrolled": true
   },
   "outputs": [
    {
     "name": "stderr",
     "output_type": "stream",
     "text": [
      "INFO:root:Epoch[0] Batch [100]\tSpeed: 35902.76 samples/sec\tTrain-mnistperdigiaccuracy=0.305891\n",
      "INFO:root:Epoch[0] Batch [200]\tSpeed: 38614.37 samples/sec\tTrain-mnistperdigiaccuracy=0.465721\n",
      "INFO:root:Epoch[0] Batch [300]\tSpeed: 32149.47 samples/sec\tTrain-mnistperdigiaccuracy=0.609336\n",
      "INFO:root:Epoch[0] Batch [400]\tSpeed: 35740.95 samples/sec\tTrain-mnistperdigiaccuracy=0.690012\n",
      "INFO:root:Epoch[0] Batch [500]\tSpeed: 35281.09 samples/sec\tTrain-mnistperdigiaccuracy=0.741747\n",
      "INFO:root:Epoch[0] Train-mnistperdigiaccuracy=0.776658\n",
      "INFO:root:Epoch[0] Time cost=1.708\n",
      "INFO:root:Epoch[0] Validation-mnistperdigiaccuracy=0.870642\n"
     ]
    },
    {
     "name": "stdout",
     "output_type": "stream",
     "text": [
      "Label= 0\n",
      "[[ 5780     0     7     4     7    24    62    11    28     0     0     0]\n",
      " [    1  6612    31    17     7     2     8    21    35     8     0     0]\n",
      " [   24    18  5671    56    32     2    62    36    52     5     0     0]\n",
      " [    4    27    63  5847     3    70     5    35    59    18     0     0]\n",
      " [    6    15    11     3  5500     3   122     8     8   166     0     0]\n",
      " [   32     9     9   157    25  5021    63    17    53    35     0     0]\n",
      " [   17     7     6     1    12    40  5818     0    17     0     0     0]\n",
      " [    7    27    41    19    36     4     3  6077     2    49     0     0]\n",
      " [   12    54    21    77    35    47    60     8  5486    51     0     0]\n",
      " [   31    10     4    60   164    28     3   192    29  5428     0     0]\n",
      " [    0     0     0     0     0     0     0     0     0     0 28780   712]\n",
      " [    0     0     0     0     0     0     0     0     0     0   773 29735]]\n"
     ]
    },
    {
     "name": "stderr",
     "output_type": "stream",
     "text": [
      "INFO:root:Epoch[1] Batch [100]\tSpeed: 25727.52 samples/sec\tTrain-mnistperdigiaccuracy=0.877467\n",
      "INFO:root:Epoch[1] Batch [200]\tSpeed: 24720.41 samples/sec\tTrain-mnistperdigiaccuracy=0.883829\n",
      "INFO:root:Epoch[1] Batch [300]\tSpeed: 28992.64 samples/sec\tTrain-mnistperdigiaccuracy=0.889420\n",
      "INFO:root:Epoch[1] Batch [400]\tSpeed: 32639.20 samples/sec\tTrain-mnistperdigiaccuracy=0.894391\n",
      "INFO:root:Epoch[1] Batch [500]\tSpeed: 27180.99 samples/sec\tTrain-mnistperdigiaccuracy=0.898948\n",
      "INFO:root:Epoch[1] Train-mnistperdigiaccuracy=0.903050\n",
      "INFO:root:Epoch[1] Time cost=2.122\n",
      "INFO:root:Epoch[1] Validation-mnistperdigiaccuracy=0.922233\n"
     ]
    },
    {
     "name": "stdout",
     "output_type": "stream",
     "text": [
      "Label= 0\n",
      "[[ 5842     0     6     3     5     4    38     3    19     3     0     0]\n",
      " [    1  6566    21    30     8     0    12    14    70    20     0     0]\n",
      " [   20     6  5798    29    17     1    20    18    44     5     0     0]\n",
      " [    5     1    55  5946     0    43     3    14    46    18     0     0]\n",
      " [    6     0    13     0  5660     0    64     5     9    85     0     0]\n",
      " [   18     1     5    54     5  5267    31     4    21    15     0     0]\n",
      " [   17     2     5     0     8    21  5854     0    11     0     0     0]\n",
      " [    7    13    57    32    16     4     1  6038    11    86     0     0]\n",
      " [   12     6    12    24     7    19    21     2  5738    10     0     0]\n",
      " [   24     2     1    29    69    23     1    31    38  5731     0     0]\n",
      " [    0     0     0     0     0     0     0     0     0     0 29213   279]\n",
      " [    0     0     0     0     0     0     0     0     0     0   587 29921]]\n"
     ]
    },
    {
     "name": "stderr",
     "output_type": "stream",
     "text": [
      "INFO:root:Epoch[2] Batch [100]\tSpeed: 35134.29 samples/sec\tTrain-mnistperdigiaccuracy=0.924336\n",
      "INFO:root:Epoch[2] Batch [200]\tSpeed: 35301.25 samples/sec\tTrain-mnistperdigiaccuracy=0.926459\n",
      "INFO:root:Epoch[2] Batch [300]\tSpeed: 32160.96 samples/sec\tTrain-mnistperdigiaccuracy=0.928365\n",
      "INFO:root:Epoch[2] Batch [400]\tSpeed: 28055.45 samples/sec\tTrain-mnistperdigiaccuracy=0.930214\n",
      "INFO:root:Epoch[2] Batch [500]\tSpeed: 25058.63 samples/sec\tTrain-mnistperdigiaccuracy=0.931908\n",
      "INFO:root:Epoch[2] Train-mnistperdigiaccuracy=0.933528\n",
      "INFO:root:Epoch[2] Time cost=2.010\n",
      "INFO:root:Epoch[2] Validation-mnistperdigiaccuracy=0.941769\n"
     ]
    },
    {
     "name": "stdout",
     "output_type": "stream",
     "text": [
      "Label= 0\n",
      "[[ 5877     0     3     1     4     2    26     0     6     4     0     0]\n",
      " [    1  6556    16    28    16     1     9    10    84    21     0     0]\n",
      " [   23     2  5840    10    18     0    16    12    34     3     0     0]\n",
      " [   10     1    43  5957     1    53     1     9    39    17     0     0]\n",
      " [    4     0     2     0  5735     0    23     2     6    70     0     0]\n",
      " [   22     0     2    23     9  5304    17     2    27    15     0     0]\n",
      " [   21     0     5     0    19    12  5846     0    15     0     0     0]\n",
      " [    7    10    35    29    16     3     0  6032    15   118     0     0]\n",
      " [   12     2    16    13    10    13    16     0  5755    14     0     0]\n",
      " [   16     1     0    35    64    11     0    15    19  5788     0     0]\n",
      " [    0     0     0     0     0     0     0     0     0     0 29325   167]\n",
      " [    0     0     0     0     0     0     0     0     0     0   566 29942]]\n"
     ]
    },
    {
     "name": "stderr",
     "output_type": "stream",
     "text": [
      "INFO:root:Epoch[3] Batch [100]\tSpeed: 34859.84 samples/sec\tTrain-mnistperdigiaccuracy=0.942860\n",
      "INFO:root:Epoch[3] Batch [200]\tSpeed: 35576.30 samples/sec\tTrain-mnistperdigiaccuracy=0.943954\n",
      "INFO:root:Epoch[3] Batch [300]\tSpeed: 27023.45 samples/sec\tTrain-mnistperdigiaccuracy=0.944963\n",
      "INFO:root:Epoch[3] Batch [400]\tSpeed: 32694.26 samples/sec\tTrain-mnistperdigiaccuracy=0.945937\n",
      "INFO:root:Epoch[3] Batch [500]\tSpeed: 33566.97 samples/sec\tTrain-mnistperdigiaccuracy=0.946915\n",
      "INFO:root:Epoch[3] Train-mnistperdigiaccuracy=0.947818\n",
      "INFO:root:Epoch[3] Time cost=1.901\n",
      "INFO:root:Epoch[3] Validation-mnistperdigiaccuracy=0.952666\n"
     ]
    },
    {
     "name": "stdout",
     "output_type": "stream",
     "text": [
      "Label= 0\n",
      "[[ 5867     0     4     2     3     1    29     0    12     5     0     0]\n",
      " [    0  6591    18    11     7     0    11    12    79    13     0     0]\n",
      " [   14     5  5863    22     5     0     6    12    29     2     0     0]\n",
      " [    5     1    27  5986     0    55     1     7    36    13     0     0]\n",
      " [    4     0     1     0  5749     1    24     1     6    56     0     0]\n",
      " [   11     0     2    26     2  5332    25     0    15     8     0     0]\n",
      " [   12     0     4     0    12    12  5862     0    16     0     0     0]\n",
      " [    3     9    22    26     8     3     0  6083    13    98     0     0]\n",
      " [    6     3    12    14     4    12    15     0  5778     7     0     0]\n",
      " [    9     1     0    22    36    20     0     8    11  5842     0     0]\n",
      " [    0     0     0     0     0     0     0     0     0     0 29337   155]\n",
      " [    0     0     0     0     0     0     0     0     0     0   406 30102]]\n"
     ]
    },
    {
     "name": "stderr",
     "output_type": "stream",
     "text": [
      "INFO:root:Epoch[4] Batch [100]\tSpeed: 24825.71 samples/sec\tTrain-mnistperdigiaccuracy=0.953343\n",
      "INFO:root:Epoch[4] Batch [200]\tSpeed: 27749.03 samples/sec\tTrain-mnistperdigiaccuracy=0.954046\n",
      "INFO:root:Epoch[4] Batch [300]\tSpeed: 26354.14 samples/sec\tTrain-mnistperdigiaccuracy=0.954696\n",
      "INFO:root:Epoch[4] Batch [400]\tSpeed: 29957.35 samples/sec\tTrain-mnistperdigiaccuracy=0.955345\n",
      "INFO:root:Epoch[4] Batch [500]\tSpeed: 28797.95 samples/sec\tTrain-mnistperdigiaccuracy=0.955944\n",
      "INFO:root:Epoch[4] Train-mnistperdigiaccuracy=0.956552\n",
      "INFO:root:Epoch[4] Time cost=2.126\n",
      "INFO:root:Epoch[4] Validation-mnistperdigiaccuracy=0.959827\n"
     ]
    },
    {
     "name": "stdout",
     "output_type": "stream",
     "text": [
      "Label= 0\n",
      "[[ 5885     0     6     4     1     1    11     0    11     4     0     0]\n",
      " [    0  6655    21     7     2     0     6    10    29    12     0     0]\n",
      " [   12     2  5898    17     3     0     0     8    17     1     0     0]\n",
      " [    3     2    26  6011     0    31     0     3    41    14     0     0]\n",
      " [    6     0     2     0  5762     1    20     1     6    44     0     0]\n",
      " [    2     0     2    23     0  5365    17     0     9     3     0     0]\n",
      " [   10     0     6     0     4    11  5868     0    19     0     0     0]\n",
      " [    5     7    40    24     5     3     0  6077    10    94     0     0]\n",
      " [    4     5     9     7     2     4     4     1  5812     3     0     0]\n",
      " [   10     0     0    22    27    19     0     7    26  5838     0     0]\n",
      " [    0     0     0     0     0     0     0     0     0     0 29374   118]\n",
      " [    0     0     0     0     0     0     0     0     0     0   336 30172]]\n"
     ]
    },
    {
     "name": "stderr",
     "output_type": "stream",
     "text": [
      "INFO:root:Epoch[5] Batch [100]\tSpeed: 33955.18 samples/sec\tTrain-mnistperdigiaccuracy=0.960311\n",
      "INFO:root:Epoch[5] Batch [200]\tSpeed: 27620.42 samples/sec\tTrain-mnistperdigiaccuracy=0.960802\n",
      "INFO:root:Epoch[5] Batch [300]\tSpeed: 30283.39 samples/sec\tTrain-mnistperdigiaccuracy=0.961259\n",
      "INFO:root:Epoch[5] Batch [400]\tSpeed: 32839.32 samples/sec\tTrain-mnistperdigiaccuracy=0.961726\n",
      "INFO:root:Epoch[5] Batch [500]\tSpeed: 34055.98 samples/sec\tTrain-mnistperdigiaccuracy=0.962137\n",
      "INFO:root:Epoch[5] Train-mnistperdigiaccuracy=0.962548\n",
      "INFO:root:Epoch[5] Time cost=1.872\n",
      "INFO:root:Epoch[5] Validation-mnistperdigiaccuracy=0.964851\n"
     ]
    },
    {
     "name": "stdout",
     "output_type": "stream",
     "text": [
      "Label= 0\n",
      "[[ 5889     0     4     1     2     1    14     0     7     5     0     0]\n",
      " [    0  6667    16     3     0     0     9    14    22    11     0     0]\n",
      " [    9     3  5927     3     2     0     1     5     7     1     0     0]\n",
      " [    3     9    42  6022     0    11     0     6    29     9     0     0]\n",
      " [    2     1     7     0  5762     0    19     1     7    43     0     0]\n",
      " [    8     2     2    43     1  5288    38     0    33     6     0     0]\n",
      " [    8     0     8     0     4     1  5886     0    11     0     0     0]\n",
      " [    3     3    26     3     3     1     0  6183     6    37     0     0]\n",
      " [    7     2    39     7     5     0     6     1  5783     1     0     0]\n",
      " [    8     1     1     9    40     8     1     7    18  5856     0     0]\n",
      " [    0     0     0     0     0     0     0     0     0     0 29410    82]\n",
      " [    0     0     0     0     0     0     0     0     0     0   359 30149]]\n"
     ]
    },
    {
     "name": "stderr",
     "output_type": "stream",
     "text": [
      "INFO:root:Epoch[6] Batch [100]\tSpeed: 35010.83 samples/sec\tTrain-mnistperdigiaccuracy=0.965220\n",
      "INFO:root:Epoch[6] Batch [200]\tSpeed: 31359.75 samples/sec\tTrain-mnistperdigiaccuracy=0.965586\n",
      "INFO:root:Epoch[6] Batch [300]\tSpeed: 31970.53 samples/sec\tTrain-mnistperdigiaccuracy=0.965932\n",
      "INFO:root:Epoch[6] Batch [400]\tSpeed: 29826.35 samples/sec\tTrain-mnistperdigiaccuracy=0.966285\n",
      "INFO:root:Epoch[6] Batch [500]\tSpeed: 29934.83 samples/sec\tTrain-mnistperdigiaccuracy=0.966604\n",
      "INFO:root:Epoch[6] Train-mnistperdigiaccuracy=0.966897\n",
      "INFO:root:Epoch[6] Time cost=1.894\n",
      "INFO:root:Epoch[6] Validation-mnistperdigiaccuracy=0.968633\n"
     ]
    },
    {
     "name": "stdout",
     "output_type": "stream",
     "text": [
      "Label= 0\n",
      "[[ 5880     0     6     2     0     1    16     0    14     4     0     0]\n",
      " [    0  6630    10     8     3     0     4    24    53    10     0     0]\n",
      " [    5     1  5923     6     2     0     0     8    12     1     0     0]\n",
      " [    1     0    24  6052     0    23     0     6    20     5     0     0]\n",
      " [    5     0     2     0  5786     0    14     2     4    29     0     0]\n",
      " [    3     0     1    22     2  5334    14     0    42     3     0     0]\n",
      " [    8     0     7     0     4     6  5870     0    23     0     0     0]\n",
      " [    1     2    14     5     3     1     0  6195     8    36     0     0]\n",
      " [    1     0    19    18     2     4     3     0  5803     1     0     0]\n",
      " [    4     0     1    21    20    11     0     9    19  5864     0     0]\n",
      " [    0     0     0     0     0     0     0     0     0     0 29415    77]\n",
      " [    0     0     0     0     0     0     0     0     0     0   316 30192]]\n"
     ]
    },
    {
     "name": "stderr",
     "output_type": "stream",
     "text": [
      "INFO:root:Epoch[7] Batch [100]\tSpeed: 28044.66 samples/sec\tTrain-mnistperdigiaccuracy=0.968908\n",
      "INFO:root:Epoch[7] Batch [200]\tSpeed: 34067.27 samples/sec\tTrain-mnistperdigiaccuracy=0.969187\n",
      "INFO:root:Epoch[7] Batch [300]\tSpeed: 28499.62 samples/sec\tTrain-mnistperdigiaccuracy=0.969454\n",
      "INFO:root:Epoch[7] Batch [400]\tSpeed: 36429.44 samples/sec\tTrain-mnistperdigiaccuracy=0.969722\n",
      "INFO:root:Epoch[7] Batch [500]\tSpeed: 37203.34 samples/sec\tTrain-mnistperdigiaccuracy=0.969969\n",
      "INFO:root:Epoch[7] Train-mnistperdigiaccuracy=0.970218\n",
      "INFO:root:Epoch[7] Time cost=1.828\n",
      "INFO:root:Epoch[7] Validation-mnistperdigiaccuracy=0.971569\n"
     ]
    },
    {
     "name": "stdout",
     "output_type": "stream",
     "text": [
      "Label= 0\n",
      "[[ 5896     0     5     2     1     0     9     0     7     3     0     0]\n",
      " [    0  6669     7     6     6     0     5    15    33     1     0     0]\n",
      " [    8     1  5927     7     3     0     0     6     5     1     0     0]\n",
      " [    1     2    28  6056     0     6     0     3    31     4     0     0]\n",
      " [    0     1     1     0  5825     0     3     1     4     7     0     0]\n",
      " [    7     1     1    14     0  5350    25     0    21     2     0     0]\n",
      " [    9     0     3     0    10     1  5880     0    15     0     0     0]\n",
      " [    1     2    24    19     1     2     0  6197     9    10     0     0]\n",
      " [    1     0    12     3     1     2     1     1  5830     0     0     0]\n",
      " [    3     0     1    38    47    13     0    20    37  5790     0     0]\n",
      " [    0     0     0     0     0     0     0     0     0     0 29458    34]\n",
      " [    0     0     0     0     0     0     0     0     0     0   367 30141]]\n"
     ]
    },
    {
     "name": "stderr",
     "output_type": "stream",
     "text": [
      "INFO:root:Epoch[8] Batch [100]\tSpeed: 25804.99 samples/sec\tTrain-mnistperdigiaccuracy=0.971796\n",
      "INFO:root:Epoch[8] Batch [200]\tSpeed: 29115.04 samples/sec\tTrain-mnistperdigiaccuracy=0.972028\n",
      "INFO:root:Epoch[8] Batch [300]\tSpeed: 29994.54 samples/sec\tTrain-mnistperdigiaccuracy=0.972243\n",
      "INFO:root:Epoch[8] Batch [400]\tSpeed: 28522.71 samples/sec\tTrain-mnistperdigiaccuracy=0.972457\n",
      "INFO:root:Epoch[8] Batch [500]\tSpeed: 33096.59 samples/sec\tTrain-mnistperdigiaccuracy=0.972663\n",
      "INFO:root:Epoch[8] Train-mnistperdigiaccuracy=0.972867\n",
      "INFO:root:Epoch[8] Time cost=2.047\n",
      "INFO:root:Epoch[8] Validation-mnistperdigiaccuracy=0.974017\n"
     ]
    },
    {
     "name": "stdout",
     "output_type": "stream",
     "text": [
      "Label= 0\n",
      "[[ 5908     0     2     0     1     0     9     0     2     1     0     0]\n",
      " [    0  6702     6     1     1     0     5    14    12     1     0     0]\n",
      " [    7     3  5940     2     2     0     0     1     3     0     0     0]\n",
      " [    2     5    37  6044     0     7     0     6    23     7     0     0]\n",
      " [    0     1     0     0  5831     0     4     1     1     4     0     0]\n",
      " [    8     1     1    14     5  5350    29     0     8     5     0     0]\n",
      " [    4     0     4     0    14     1  5888     0     7     0     0     0]\n",
      " [    0     3    16     2     3     0     0  6237     0     4     0     0]\n",
      " [    5     2    10     0     7     0     6     1  5820     0     0     0]\n",
      " [    8     4     0    14    57     4     0    19    12  5831     0     0]\n",
      " [    0     0     0     0     0     0     0     0     0     0 29479    13]\n",
      " [    0     0     0     0     0     0     0     0     0     0   310 30198]]\n"
     ]
    },
    {
     "name": "stderr",
     "output_type": "stream",
     "text": [
      "INFO:root:Epoch[9] Batch [100]\tSpeed: 31315.48 samples/sec\tTrain-mnistperdigiaccuracy=0.974204\n",
      "INFO:root:Epoch[9] Batch [200]\tSpeed: 26824.11 samples/sec\tTrain-mnistperdigiaccuracy=0.974399\n",
      "INFO:root:Epoch[9] Batch [300]\tSpeed: 24537.54 samples/sec\tTrain-mnistperdigiaccuracy=0.974578\n",
      "INFO:root:Epoch[9] Batch [400]\tSpeed: 35816.36 samples/sec\tTrain-mnistperdigiaccuracy=0.974771\n",
      "INFO:root:Epoch[9] Batch [500]\tSpeed: 36022.52 samples/sec\tTrain-mnistperdigiaccuracy=0.974953\n",
      "INFO:root:Epoch[9] Train-mnistperdigiaccuracy=0.975124\n",
      "INFO:root:Epoch[9] Time cost=1.951\n",
      "INFO:root:Epoch[9] Validation-mnistperdigiaccuracy=0.975789\n"
     ]
    },
    {
     "name": "stdout",
     "output_type": "stream",
     "text": [
      "Label= 0\n",
      "[[ 5895     0     6     0     0     0    16     0     6     0     0     0]\n",
      " [    0  6657    22     0     6     0     3    13    38     3     0     0]\n",
      " [    5     1  5943     0     2     0     0     1     6     0     0     0]\n",
      " [    1     5   106  5931     0     2     0     8    72     6     0     0]\n",
      " [    0     0     0     0  5834     0     3     1     3     1     0     0]\n",
      " [   13     1     1    14     3  5291    40     0    52     6     0     0]\n",
      " [    2     1     8     0     6     0  5891     0    10     0     0     0]\n",
      " [    0     1    42     0     4     0     0  6204     4    10     0     0]\n",
      " [    2     0    12     0     1     0     0     0  5836     0     0     0]\n",
      " [    7     0     1     7    84     3     0    16    33  5798     0     0]\n",
      " [    0     0     0     0     0     0     0     0     0     0 29488     4]\n",
      " [    0     0     0     0     0     0     0     0     0     0   665 29843]]\n"
     ]
    }
   ],
   "source": [
    "mod = mx.mod.Module(mlp,label_names=['softmax_label'])\n",
    "mod.label_names\n",
    "mod.fit(_train, \n",
    "        eval_data=_val,\n",
    "        optimizer_params=optimizer_params,\n",
    "        eval_metric=MNISTPerDigitAccuracy([12]),\n",
    "        eval_end_callback=perDigitMetric,\n",
    "        num_epoch=10, batch_end_callback=mx.callback.Speedometer(100,100))"
   ]
  },
  {
   "cell_type": "code",
   "execution_count": null,
   "metadata": {
    "collapsed": true
   },
   "outputs": [],
   "source": []
  }
 ],
 "metadata": {
  "anaconda-cloud": {},
  "kernelspec": {
   "display_name": "Python [default]",
   "language": "python",
   "name": "python2"
  },
  "language_info": {
   "codemirror_mode": {
    "name": "ipython",
    "version": 2
   },
   "file_extension": ".py",
   "mimetype": "text/x-python",
   "name": "python",
   "nbconvert_exporter": "python",
   "pygments_lexer": "ipython2",
   "version": "2.7.12"
  }
 },
 "nbformat": 4,
 "nbformat_minor": 1
}
