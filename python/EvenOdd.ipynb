{
 "cells": [
  {
   "cell_type": "code",
   "execution_count": 3,
   "metadata": {
    "collapsed": false
   },
   "outputs": [
    {
     "name": "stdout",
     "output_type": "stream",
     "text": [
      "/Users/olg/Software/mxnet/python/mxnet\n",
      "['', '/Users/olg/Software/mxnet/python', '/Users/olg/Software/mxnet-notebooks/python', '/Users/olg/anaconda2/lib/python27.zip', '/Users/olg/anaconda2/lib/python2.7', '/Users/olg/anaconda2/lib/python2.7/plat-darwin', '/Users/olg/anaconda2/lib/python2.7/plat-mac', '/Users/olg/anaconda2/lib/python2.7/plat-mac/lib-scriptpackages', '/Users/olg/anaconda2/lib/python2.7/lib-tk', '/Users/olg/anaconda2/lib/python2.7/lib-old', '/Users/olg/anaconda2/lib/python2.7/lib-dynload', '/Users/olg/anaconda2/lib/python2.7/site-packages', '/Users/olg/anaconda2/lib/python2.7/site-packages/Sphinx-1.4.6-py2.7.egg', '/Users/olg/anaconda2/lib/python2.7/site-packages/aeosa', '/Users/olg/anaconda2/lib/python2.7/site-packages/setuptools-27.2.0-py2.7.egg', '/Users/olg/anaconda2/lib/python2.7/site-packages/IPython/extensions', '/Users/olg/.ipython', '/Users/olg/Software/mxnet/python/mxnet/__init__.pyc/../../tests/python/common', '/Users/olg/Software/mxnet/python/mxnet/../../tests/python/common', '/Users/olg/Software/mxnet/python/mxnet/../../tests/python/common', '/Users/olg/Software/mxnet/python/mxnet/../../example/python-howto']\n"
     ]
    }
   ],
   "source": [
    "import sys\n",
    "import os\n",
    "import mxnet as mx\n",
    "import mxnet.metric #import EvalMetric\n",
    "import numpy as np\n",
    "import logging\n",
    "# code to automatically download dataset\n",
    "mxnet_path = os.path.dirname(os.path.abspath(os.path.expanduser(mxnet.__file__)))\n",
    "sys.path.append(os.path.join(mxnet_path, \"../../tests/python/common\"))\n",
    "sys.path.append(os.path.join(mxnet_path, \"../../example/python-howto\"))\n",
    "print sys.path\n",
    "from data import mnist_iterator\n",
    "import get_data"
   ]
  },
  {
   "cell_type": "code",
   "execution_count": 6,
   "metadata": {
    "collapsed": false
   },
   "outputs": [],
   "source": [
    "def perDigitMetric(params):\n",
    "    #print \"Metric\", params\n",
    "    for i, cm in enumerate(params.eval_metric.cms):\n",
    "        print \"Label=\", i\n",
    "        print cm\n",
    "\n",
    "class MNISTPerDigitAccuracy(mx.metric.EvalMetric):\n",
    "    \"\"\"Calculate accuracy\"\"\"\n",
    "\n",
    "    def reset(self):\n",
    "        if hasattr(self, 'cms'):\n",
    "            for cm in self.cms:\n",
    "                cm.fill(0)\n",
    "        \n",
    "\n",
    "    def __init__(self,sizes):\n",
    "        super(MNISTPerDigitAccuracy, self).__init__('mnistperdigiaccuracy')\n",
    "        self.cms = map( lambda x: np.zeros((x,x), dtype=int), sizes )\n",
    "        self.reset()\n",
    "        return super(MNISTPerDigitAccuracy, self).reset()\n",
    "\n",
    "\n",
    "    def update(self, labels, preds):\n",
    "        mx.metric.check_label_shapes(labels, preds)\n",
    "        #print labels, preds\n",
    "        for i in range(len(labels)):\n",
    "            for label, pred_label in zip(labels[i].asnumpy(), preds[i].asnumpy()):\n",
    "                pred_label = int(np.argmax(pred_label))\n",
    "                label = int(label)\n",
    "#                print \"LABEL=\", label, \"PRED=\", pred_label\n",
    "                self.cms[i][label,pred_label] += 1\n",
    "                self.sum_metric += (pred_label == label)\n",
    "                self.num_inst += 1\n"
   ]
  },
  {
   "cell_type": "code",
   "execution_count": 7,
   "metadata": {
    "collapsed": false
   },
   "outputs": [],
   "source": [
    "logging.basicConfig(level=logging.DEBUG)"
   ]
  },
  {
   "cell_type": "code",
   "execution_count": 8,
   "metadata": {
    "collapsed": false
   },
   "outputs": [],
   "source": [
    "train, val = mnist_iterator(batch_size=100, input_shape = (784,))"
   ]
  },
  {
   "cell_type": "code",
   "execution_count": 9,
   "metadata": {
    "collapsed": false
   },
   "outputs": [],
   "source": [
    "class EvenOdd_iterator(mx.io.DataIter):\n",
    "    '''multi label ilab iterator'''\n",
    "\n",
    "    def __init__(self, data_iter):\n",
    "        super(EvenOdd_iterator, self).__init__()\n",
    "        self.data_iter = data_iter\n",
    "        self.batch_size = self.data_iter.batch_size\n",
    "\n",
    "    @property\n",
    "    def provide_data(self):\n",
    "        return self.data_iter.provide_data\n",
    "\n",
    "    @property\n",
    "    def provide_label(self):\n",
    "        #return [mx.io.DataDesc('softmax_label', (self.batch_size,), np.float32)]\n",
    "        return [mx.io.DataDesc('softmaxdigit_label', (self.batch_size,), np.float32),\n",
    "                mx.io.DataDesc('softmaxeo_label', (self.batch_size,), np.float32)]\n",
    "\n",
    "    def hard_reset(self):\n",
    "        self.data_iter.hard_reset()\n",
    "\n",
    "    def reset(self):\n",
    "        self.data_iter.reset()\n",
    "\n",
    "    def next(self):\n",
    "        batch = self.data_iter.next()\n",
    "        #labels= batch.label\n",
    "        labels = []\n",
    "        labels.append(batch.label[0]) \n",
    "        eolabels = []\n",
    "        for i in batch.label[0].asnumpy():\n",
    "            eolabels.append(i%2)\n",
    "        eolabels = mx.nd.array(np.array(eolabels))\n",
    "        labels.append(eolabels)\n",
    "        return mx.io.DataBatch(data=batch.data, label=labels, pad=batch.pad, index=batch.index)\n"
   ]
  },
  {
   "cell_type": "code",
   "execution_count": 10,
   "metadata": {
    "collapsed": false
   },
   "outputs": [],
   "source": [
    "_train = EvenOdd_iterator(train)\n",
    "_val = EvenOdd_iterator(train)"
   ]
  },
  {
   "cell_type": "code",
   "execution_count": 11,
   "metadata": {
    "collapsed": false,
    "scrolled": false
   },
   "outputs": [],
   "source": [
    "data = mx.symbol.Variable('data')\n",
    "fc1 = mx.symbol.FullyConnected(data = data, name='fc1', num_hidden=128)\n",
    "act1 = mx.symbol.Activation(data = fc1, name='relu1', act_type=\"relu\")\n",
    "fc2 = mx.symbol.FullyConnected(data = act1, name = 'fc2', num_hidden = 64)\n",
    "act2 = mx.symbol.Activation(data = fc2, name='relu2', act_type=\"relu\")\n",
    "fc3digit = mx.symbol.FullyConnected(data = act2, name='fc3', num_hidden=10)\n",
    "fc3eo = mx.symbol.FullyConnected(data = act2, name='fc3eo', num_hidden=2)"
   ]
  },
  {
   "cell_type": "code",
   "execution_count": 12,
   "metadata": {
    "collapsed": false
   },
   "outputs": [],
   "source": [
    "mlp1 = mx.symbol.SoftmaxOutput(data = fc3digit, name = 'softmaxdigit')\n",
    "mlp2 = mx.symbol.SoftmaxOutput(data = fc3eo, name = 'softmaxeo')\n",
    "mlp = mx.symbol.Group([mlp1,mlp2])\n",
    "\n",
    "optimizer_params = (('learning_rate', 0.1),('momentum', 0.9), ('wd', 0.00001))"
   ]
  },
  {
   "cell_type": "code",
   "execution_count": 13,
   "metadata": {
    "collapsed": false,
    "scrolled": true
   },
   "outputs": [
    {
     "name": "stderr",
     "output_type": "stream",
     "text": [
      "INFO:root:Epoch[0] Batch [100]\tSpeed: 41555.49 samples/sec\tTrain-mnistperdigiaccuracy=0.389356\n",
      "INFO:root:Epoch[0] Batch [200]\tSpeed: 44256.78 samples/sec\tTrain-mnistperdigiaccuracy=0.595920\n",
      "INFO:root:Epoch[0] Batch [300]\tSpeed: 45179.96 samples/sec\tTrain-mnistperdigiaccuracy=0.705050\n",
      "INFO:root:Epoch[0] Batch [400]\tSpeed: 45551.25 samples/sec\tTrain-mnistperdigiaccuracy=0.763741\n",
      "INFO:root:Epoch[0] Batch [500]\tSpeed: 45257.47 samples/sec\tTrain-mnistperdigiaccuracy=0.801856\n",
      "INFO:root:Epoch[0] Train-mnistperdigiaccuracy=0.827042\n",
      "INFO:root:Epoch[0] Time cost=1.352\n",
      "INFO:root:Epoch[0] Validation-mnistperdigiaccuracy=0.896967\n"
     ]
    },
    {
     "name": "stdout",
     "output_type": "stream",
     "text": [
      "Label= 0\n",
      "[[5760    0   15    5    8   16   37    5   48   29]\n",
      " [   1 6548   24   13   12    3    5   14   90   32]\n",
      " [  19   28 5719   44   38    3   37   24   39    7]\n",
      " [   3   11  105 5769    2  111    4   24   63   39]\n",
      " [   8    2   16    1 5611    0   43    5   10  146]\n",
      " [  18   15    7  106   26 5073   36    5  104   31]\n",
      " [  30    9   10    2   21   61 5757    0   28    0]\n",
      " [   8   19   77   31   49   10    0 5894    8  169]\n",
      " [  14   21   49   33   36   18   34    2 5593   51]\n",
      " [  11    5    6   43   94   22    1   65   30 5672]]\n",
      "Label= 1\n",
      "[[28848   644]\n",
      " [  725 29783]]\n"
     ]
    },
    {
     "name": "stderr",
     "output_type": "stream",
     "text": [
      "INFO:root:Epoch[1] Batch [100]\tSpeed: 44342.60 samples/sec\tTrain-mnistperdigiaccuracy=0.901802\n",
      "INFO:root:Epoch[1] Batch [200]\tSpeed: 45865.85 samples/sec\tTrain-mnistperdigiaccuracy=0.906445\n",
      "INFO:root:Epoch[1] Batch [300]\tSpeed: 43607.40 samples/sec\tTrain-mnistperdigiaccuracy=0.910580\n",
      "INFO:root:Epoch[1] Batch [400]\tSpeed: 43832.53 samples/sec\tTrain-mnistperdigiaccuracy=0.914147\n",
      "INFO:root:Epoch[1] Batch [500]\tSpeed: 45915.41 samples/sec\tTrain-mnistperdigiaccuracy=0.917522\n",
      "INFO:root:Epoch[1] Train-mnistperdigiaccuracy=0.920417\n",
      "INFO:root:Epoch[1] Time cost=1.344\n",
      "INFO:root:Epoch[1] Validation-mnistperdigiaccuracy=0.934694\n"
     ]
    },
    {
     "name": "stdout",
     "output_type": "stream",
     "text": [
      "Label= 0\n",
      "[[5864    1    6    0   11    5   23    1    9    3]\n",
      " [   0 6667   25    4    5    0    9    5   15   12]\n",
      " [  35   10 5846    8   20    0   10   10   17    2]\n",
      " [   7   14   87 5708    3  205    4   27   35   41]\n",
      " [   6    5   13    0 5728    0   15    4    7   64]\n",
      " [  17    3    4   19    9 5302   26    3   22   16]\n",
      " [  33    8   22    0   18   21 5810    0    6    0]\n",
      " [   6   23   57    5   34    9    1 6061    7   62]\n",
      " [  44   25   62   29   16   28   58    2 5571   16]\n",
      " [  19    8    2   11  149   41    1   31   15 5672]]\n",
      "Label= 1\n",
      "[[29283   209]\n",
      " [  717 29791]]\n"
     ]
    },
    {
     "name": "stderr",
     "output_type": "stream",
     "text": [
      "INFO:root:Epoch[2] Batch [100]\tSpeed: 44036.77 samples/sec\tTrain-mnistperdigiaccuracy=0.936261\n",
      "INFO:root:Epoch[2] Batch [200]\tSpeed: 45418.61 samples/sec\tTrain-mnistperdigiaccuracy=0.937912\n",
      "INFO:root:Epoch[2] Batch [300]\tSpeed: 34347.73 samples/sec\tTrain-mnistperdigiaccuracy=0.939348\n",
      "INFO:root:Epoch[2] Batch [400]\tSpeed: 25767.02 samples/sec\tTrain-mnistperdigiaccuracy=0.940680\n",
      "INFO:root:Epoch[2] Batch [500]\tSpeed: 38850.65 samples/sec\tTrain-mnistperdigiaccuracy=0.941927\n",
      "INFO:root:Epoch[2] Train-mnistperdigiaccuracy=0.943147\n",
      "INFO:root:Epoch[2] Time cost=1.710\n",
      "INFO:root:Epoch[2] Validation-mnistperdigiaccuracy=0.949512\n"
     ]
    },
    {
     "name": "stdout",
     "output_type": "stream",
     "text": [
      "Label= 0\n",
      "[[5872    0   12    2    6    1    8    3   16    3]\n",
      " [   0 6677   22    5    2    2    4    5   15   10]\n",
      " [  16    7 5901    7    3    0    0    9   14    1]\n",
      " [   4    4   59 5908    0   82    0   20   38   16]\n",
      " [   2    4   61    1 5717    0   17    2   11   27]\n",
      " [  11    1    8   39    4 5286   14    2   45   11]\n",
      " [  38    3   93    0   18   22 5713    0   31    0]\n",
      " [   3   17   67   14   23    3    0 6008    8  122]\n",
      " [  19   22   45   24   10    8    6    1 5710    6]\n",
      " [   8    5   14   42   87   28    1   18   43 5703]]\n",
      "Label= 1\n",
      "[[29385   107]\n",
      " [  627 29881]]\n"
     ]
    }
   ],
   "source": [
    "mod = mx.mod.Module(mlp,label_names=['softmaxdigit_label','softmaxeo_label'])\n",
    "mod.label_names\n",
    "mod.fit(_train, \n",
    "        eval_data=_val,\n",
    "        optimizer_params=optimizer_params,\n",
    "        eval_metric=MNISTPerDigitAccuracy([10,2]),\n",
    "        eval_end_callback=perDigitMetric,\n",
    "        num_epoch=3, batch_end_callback=mx.callback.Speedometer(100,100))"
   ]
  },
  {
   "cell_type": "code",
   "execution_count": null,
   "metadata": {
    "collapsed": true
   },
   "outputs": [],
   "source": []
  }
 ],
 "metadata": {
  "anaconda-cloud": {},
  "kernelspec": {
   "display_name": "Python [default]",
   "language": "python",
   "name": "python2"
  },
  "language_info": {
   "codemirror_mode": {
    "name": "ipython",
    "version": 2
   },
   "file_extension": ".py",
   "mimetype": "text/x-python",
   "name": "python",
   "nbconvert_exporter": "python",
   "pygments_lexer": "ipython2",
   "version": "2.7.12"
  }
 },
 "nbformat": 4,
 "nbformat_minor": 1
}
